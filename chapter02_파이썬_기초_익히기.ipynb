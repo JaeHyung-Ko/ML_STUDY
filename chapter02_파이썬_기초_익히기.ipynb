{
  "nbformat": 4,
  "nbformat_minor": 0,
  "metadata": {
    "colab": {
      "provenance": []
    },
    "kernelspec": {
      "name": "python3",
      "display_name": "Python 3"
    },
    "language_info": {
      "name": "python"
    }
  },
  "cells": [
    {
      "cell_type": "markdown",
      "source": [
        "# 2.1 프로그래밍 기본: 산술 연산, 변수, 출력\n"
      ],
      "metadata": {
        "id": "31Fm2U3Aaqsy"
      }
    },
    {
      "cell_type": "markdown",
      "source": [
        "###2.1.2. 변수"
      ],
      "metadata": {
        "id": "mVmcLpjYa1-S"
      }
    },
    {
      "cell_type": "code",
      "source": [
        "a = 3\n",
        "b = 2\n",
        "a+b"
      ],
      "metadata": {
        "colab": {
          "base_uri": "https://localhost:8080/"
        },
        "id": "_FaAy4j8a8o1",
        "outputId": "ec88c8d2-0213-47b4-d9ee-09e2e6eef6b0"
      },
      "execution_count": 2,
      "outputs": [
        {
          "output_type": "execute_result",
          "data": {
            "text/plain": [
              "5"
            ]
          },
          "metadata": {},
          "execution_count": 2
        }
      ]
    },
    {
      "cell_type": "markdown",
      "source": [
        "###2.1.3 출력함수"
      ],
      "metadata": {
        "id": "reN_CECdbL0W"
      }
    },
    {
      "cell_type": "code",
      "source": [
        "a = 3\n",
        "b = 2\n",
        "print(a+b)"
      ],
      "metadata": {
        "colab": {
          "base_uri": "https://localhost:8080/"
        },
        "id": "CA1-riy3bXfQ",
        "outputId": "b2cda5a6-c616-4d9e-f230-051291388a0a"
      },
      "execution_count": 3,
      "outputs": [
        {
          "output_type": "stream",
          "name": "stdout",
          "text": [
            "5\n"
          ]
        }
      ]
    },
    {
      "cell_type": "markdown",
      "source": [
        "## 2.2 자료형과 자료구조"
      ],
      "metadata": {
        "id": "-pAagpbvbv3j"
      }
    },
    {
      "cell_type": "markdown",
      "source": [
        "### 논리형"
      ],
      "metadata": {
        "id": "DBM4YJLpb34A"
      }
    },
    {
      "cell_type": "code",
      "source": [
        "3 > 1"
      ],
      "metadata": {
        "colab": {
          "base_uri": "https://localhost:8080/"
        },
        "id": "zaf3r74lbxAJ",
        "outputId": "9199e240-cad5-459c-97ce-beb17b88968c"
      },
      "execution_count": 5,
      "outputs": [
        {
          "output_type": "execute_result",
          "data": {
            "text/plain": [
              "True"
            ]
          },
          "metadata": {},
          "execution_count": 5
        }
      ]
    },
    {
      "cell_type": "code",
      "source": [
        "3 > 7"
      ],
      "metadata": {
        "colab": {
          "base_uri": "https://localhost:8080/"
        },
        "id": "TjI5mbIYb003",
        "outputId": "b4d25304-6f35-4c9d-e6d8-28ec1e9ee255"
      },
      "execution_count": 6,
      "outputs": [
        {
          "output_type": "execute_result",
          "data": {
            "text/plain": [
              "False"
            ]
          },
          "metadata": {},
          "execution_count": 6
        }
      ]
    },
    {
      "cell_type": "markdown",
      "source": [
        "### 리스트와 튜플"
      ],
      "metadata": {
        "id": "2E30pR5NcIJd"
      }
    },
    {
      "cell_type": "code",
      "source": [
        "sample_list = [1,2,3,4,5,6,7,8,9,10]\n",
        "sample_list"
      ],
      "metadata": {
        "colab": {
          "base_uri": "https://localhost:8080/"
        },
        "id": "UyA7jmuDcH4H",
        "outputId": "65f894c8-f533-4bf0-f367-ea98bf29ba41"
      },
      "execution_count": 7,
      "outputs": [
        {
          "output_type": "execute_result",
          "data": {
            "text/plain": [
              "[1, 2, 3, 4, 5, 6, 7, 8, 9, 10]"
            ]
          },
          "metadata": {},
          "execution_count": 7
        }
      ]
    },
    {
      "cell_type": "code",
      "source": [
        "sample_tuple = (1,2,3,4,5,6,7,8,9,10)\n",
        "sample_tuple"
      ],
      "metadata": {
        "colab": {
          "base_uri": "https://localhost:8080/"
        },
        "id": "aW_ZpETBcOgy",
        "outputId": "0331d4ea-0401-4820-da5a-60896bb2bf3a"
      },
      "execution_count": 8,
      "outputs": [
        {
          "output_type": "execute_result",
          "data": {
            "text/plain": [
              "(1, 2, 3, 4, 5, 6, 7, 8, 9, 10)"
            ]
          },
          "metadata": {},
          "execution_count": 8
        }
      ]
    },
    {
      "cell_type": "code",
      "source": [
        "sample_list[0]"
      ],
      "metadata": {
        "colab": {
          "base_uri": "https://localhost:8080/"
        },
        "id": "1qgE_VaFcOXN",
        "outputId": "cbfc2e59-3d93-4483-e043-1bd655fe80a6"
      },
      "execution_count": 9,
      "outputs": [
        {
          "output_type": "execute_result",
          "data": {
            "text/plain": [
              "1"
            ]
          },
          "metadata": {},
          "execution_count": 9
        }
      ]
    },
    {
      "cell_type": "code",
      "source": [
        "sample_tuple[3]"
      ],
      "metadata": {
        "colab": {
          "base_uri": "https://localhost:8080/"
        },
        "id": "8Qms3rlOcSAK",
        "outputId": "49c9ec4c-0095-4b73-92a0-748cf4a6447d"
      },
      "execution_count": 10,
      "outputs": [
        {
          "output_type": "execute_result",
          "data": {
            "text/plain": [
              "4"
            ]
          },
          "metadata": {},
          "execution_count": 10
        }
      ]
    },
    {
      "cell_type": "code",
      "source": [
        "sample_list.remove(10)\n",
        "sample_list"
      ],
      "metadata": {
        "colab": {
          "base_uri": "https://localhost:8080/"
        },
        "id": "oR8G-hAHcR7R",
        "outputId": "3beacc73-2a10-434c-d6ab-fbf3950fd4c5"
      },
      "execution_count": 11,
      "outputs": [
        {
          "output_type": "execute_result",
          "data": {
            "text/plain": [
              "[1, 2, 3, 4, 5, 6, 7, 8, 9]"
            ]
          },
          "metadata": {},
          "execution_count": 11
        }
      ]
    },
    {
      "cell_type": "code",
      "source": [
        "sample_tuple.remove(10)"
      ],
      "metadata": {
        "colab": {
          "base_uri": "https://localhost:8080/",
          "height": 183
        },
        "id": "Fb4jqfbocR4G",
        "outputId": "50b0b20c-7bc0-4225-f88a-d5a42231ff39"
      },
      "execution_count": 13,
      "outputs": [
        {
          "output_type": "error",
          "ename": "AttributeError",
          "evalue": "'tuple' object has no attribute 'remove'",
          "traceback": [
            "\u001b[0;31m---------------------------------------------------------------------------\u001b[0m",
            "\u001b[0;31mAttributeError\u001b[0m                            Traceback (most recent call last)",
            "\u001b[0;32m<ipython-input-13-5e9ff8210e66>\u001b[0m in \u001b[0;36m<cell line: 1>\u001b[0;34m()\u001b[0m\n\u001b[0;32m----> 1\u001b[0;31m \u001b[0msample_tuple\u001b[0m\u001b[0;34m.\u001b[0m\u001b[0mremove\u001b[0m\u001b[0;34m(\u001b[0m\u001b[0;36m10\u001b[0m\u001b[0;34m)\u001b[0m\u001b[0;34m\u001b[0m\u001b[0;34m\u001b[0m\u001b[0m\n\u001b[0m",
            "\u001b[0;31mAttributeError\u001b[0m: 'tuple' object has no attribute 'remove'"
          ]
        }
      ]
    },
    {
      "cell_type": "code",
      "source": [
        "sample_list.append(100)\n",
        "sample_list"
      ],
      "metadata": {
        "colab": {
          "base_uri": "https://localhost:8080/"
        },
        "id": "LDlbQr-qcb5r",
        "outputId": "c703c4c9-6f8d-4397-ccc7-b420113b2803"
      },
      "execution_count": 15,
      "outputs": [
        {
          "output_type": "execute_result",
          "data": {
            "text/plain": [
              "[1, 2, 3, 4, 5, 6, 7, 8, 9, 100, 100]"
            ]
          },
          "metadata": {},
          "execution_count": 15
        }
      ]
    },
    {
      "cell_type": "markdown",
      "source": [
        "### 딕셔너리"
      ],
      "metadata": {
        "id": "6T7v8i2Acemo"
      }
    },
    {
      "cell_type": "code",
      "source": [
        "sample_dic = {'name': ['John','Ann','Kevin'], 'age': [23,22,21]}\n",
        "sample_dic"
      ],
      "metadata": {
        "colab": {
          "base_uri": "https://localhost:8080/"
        },
        "id": "ZyUUu2TVcoDK",
        "outputId": "3a37061f-bd0b-4628-8b92-cb35c251a167"
      },
      "execution_count": 16,
      "outputs": [
        {
          "output_type": "execute_result",
          "data": {
            "text/plain": [
              "{'name': ['John', 'Ann', 'Kevin'], 'age': [23, 22, 21]}"
            ]
          },
          "metadata": {},
          "execution_count": 16
        }
      ]
    },
    {
      "cell_type": "code",
      "source": [
        "sample_dic['name']"
      ],
      "metadata": {
        "colab": {
          "base_uri": "https://localhost:8080/"
        },
        "id": "u1WgRT_6cm7D",
        "outputId": "5020d762-147b-4db6-9ecf-539a63f1eee9"
      },
      "execution_count": 17,
      "outputs": [
        {
          "output_type": "execute_result",
          "data": {
            "text/plain": [
              "['John', 'Ann', 'Kevin']"
            ]
          },
          "metadata": {},
          "execution_count": 17
        }
      ]
    },
    {
      "cell_type": "markdown",
      "source": [
        "### 세트"
      ],
      "metadata": {
        "id": "Qq4YEfR6dTon"
      }
    },
    {
      "cell_type": "code",
      "source": [
        "set_list = [1,2,3,3,4,5,3,3]"
      ],
      "metadata": {
        "id": "dwpeBCnrdan6"
      },
      "execution_count": 21,
      "outputs": []
    },
    {
      "cell_type": "code",
      "source": [
        "set(set_list)"
      ],
      "metadata": {
        "colab": {
          "base_uri": "https://localhost:8080/"
        },
        "id": "g-5k_WR3dg2V",
        "outputId": "ec3bcd57-e2bc-4bc2-ad01-6e011f4f10a4"
      },
      "execution_count": 24,
      "outputs": [
        {
          "output_type": "execute_result",
          "data": {
            "text/plain": [
              "{1, 2, 3, 4, 5}"
            ]
          },
          "metadata": {},
          "execution_count": 24
        }
      ]
    },
    {
      "cell_type": "code",
      "source": [
        "sample_set = set(set_list)"
      ],
      "metadata": {
        "id": "6iszVPOadsOa"
      },
      "execution_count": 27,
      "outputs": []
    },
    {
      "cell_type": "code",
      "source": [
        "sample_set[0]"
      ],
      "metadata": {
        "colab": {
          "base_uri": "https://localhost:8080/",
          "height": 183
        },
        "id": "dUAGypmndkHC",
        "outputId": "2e194338-f152-42dd-c720-0257d74b63dc"
      },
      "execution_count": 28,
      "outputs": [
        {
          "output_type": "error",
          "ename": "TypeError",
          "evalue": "'set' object is not subscriptable",
          "traceback": [
            "\u001b[0;31m---------------------------------------------------------------------------\u001b[0m",
            "\u001b[0;31mTypeError\u001b[0m                                 Traceback (most recent call last)",
            "\u001b[0;32m<ipython-input-28-aac88c932db3>\u001b[0m in \u001b[0;36m<cell line: 1>\u001b[0;34m()\u001b[0m\n\u001b[0;32m----> 1\u001b[0;31m \u001b[0msample_set\u001b[0m\u001b[0;34m[\u001b[0m\u001b[0;36m0\u001b[0m\u001b[0;34m]\u001b[0m\u001b[0;34m\u001b[0m\u001b[0;34m\u001b[0m\u001b[0m\n\u001b[0m",
            "\u001b[0;31mTypeError\u001b[0m: 'set' object is not subscriptable"
          ]
        }
      ]
    },
    {
      "cell_type": "code",
      "source": [
        "sample_set.add(6)\n",
        "sample_set"
      ],
      "metadata": {
        "colab": {
          "base_uri": "https://localhost:8080/"
        },
        "id": "qQElKJ_WeI2b",
        "outputId": "c0dff8eb-162f-4b64-c0de-86aeb5983b47"
      },
      "execution_count": 29,
      "outputs": [
        {
          "output_type": "execute_result",
          "data": {
            "text/plain": [
              "{1, 2, 3, 4, 5, 6}"
            ]
          },
          "metadata": {},
          "execution_count": 29
        }
      ]
    },
    {
      "cell_type": "markdown",
      "source": [
        "## 2.3 반복문 : for문, while문"
      ],
      "metadata": {
        "id": "PYcNpH7CeR0d"
      }
    },
    {
      "cell_type": "code",
      "source": [
        "for i in [1, 2, 3]:\n",
        "    print(i+5)"
      ],
      "metadata": {
        "colab": {
          "base_uri": "https://localhost:8080/"
        },
        "id": "NRQ5Mu3peYeA",
        "outputId": "20cdcc88-709d-4bff-b28b-54b47dbcb70a"
      },
      "execution_count": 31,
      "outputs": [
        {
          "output_type": "stream",
          "name": "stdout",
          "text": [
            "6\n",
            "7\n",
            "8\n"
          ]
        }
      ]
    },
    {
      "cell_type": "code",
      "source": [
        "a = 5\n",
        "while a > 0:\n",
        "    print(a)\n",
        "    a = a-1"
      ],
      "metadata": {
        "colab": {
          "base_uri": "https://localhost:8080/"
        },
        "id": "1siIs2kiecyl",
        "outputId": "31922468-c904-4131-9f97-76a79a283b12"
      },
      "execution_count": 32,
      "outputs": [
        {
          "output_type": "stream",
          "name": "stdout",
          "text": [
            "5\n",
            "4\n",
            "3\n",
            "2\n",
            "1\n"
          ]
        }
      ]
    },
    {
      "cell_type": "markdown",
      "source": [
        "## 2.4 조건문 : if문"
      ],
      "metadata": {
        "id": "LW2Dmj_2euzL"
      }
    },
    {
      "cell_type": "code",
      "source": [
        "x = 3 # ❶ 테스트할 값\n",
        "if x % 2 == 0: # ❷ 기본 조건 : even 출력\n",
        "    print('even')\n",
        "else:  # ❸ 나머지 : odd 출력\n",
        "    print('odd')"
      ],
      "metadata": {
        "colab": {
          "base_uri": "https://localhost:8080/"
        },
        "id": "7N-tjTZfee5t",
        "outputId": "85912b52-8cf8-459f-d332-0f5900f8f443"
      },
      "execution_count": 34,
      "outputs": [
        {
          "output_type": "stream",
          "name": "stdout",
          "text": [
            "odd\n"
          ]
        }
      ]
    },
    {
      "cell_type": "code",
      "source": [
        "sample_list = [-3,5,0,-1,2]"
      ],
      "metadata": {
        "id": "CZC6RquCei6x"
      },
      "execution_count": 35,
      "outputs": []
    },
    {
      "cell_type": "code",
      "source": [
        "for i in sample_list:\n",
        "    if i > 0: # 기본 조건: i가 0보다 크면 positive를 출력\n",
        "        print('positive')\n",
        "    elif i < 0: # 추가 조건: i가 0보다 작으면 negative를 출력\n",
        "        print('negative')\n",
        "    else: # 나머지: 위의 두 경우 모두 해당하지 않으면 zero를 출력\n",
        "        print('zero')"
      ],
      "metadata": {
        "colab": {
          "base_uri": "https://localhost:8080/"
        },
        "id": "VrFD0LONe3qQ",
        "outputId": "d1ad5898-4a6f-422d-be56-1b4592416a56"
      },
      "execution_count": 36,
      "outputs": [
        {
          "output_type": "stream",
          "name": "stdout",
          "text": [
            "negative\n",
            "positive\n",
            "zero\n",
            "negative\n",
            "positive\n"
          ]
        }
      ]
    },
    {
      "cell_type": "code",
      "source": [
        "for i in sample_list:\n",
        "    if i > 0: # 기본 조건: i가 0보다 크면 positive를 출력\n",
        "        print('positive')\n",
        "    elif i < 0: # 추가 조건: i가 0보다 작으면 negative를 출력\n",
        "        print('negative')\n",
        "    else: # 나머지: 위의 두 경우 모두 해당하지 않으면 zero를 출력\n",
        "         print('zero')"
      ],
      "metadata": {
        "colab": {
          "base_uri": "https://localhost:8080/"
        },
        "id": "vDo_WheNe7d_",
        "outputId": "db80a5f4-f548-4b99-e7f3-c9b6fec89cbb"
      },
      "execution_count": 37,
      "outputs": [
        {
          "output_type": "stream",
          "name": "stdout",
          "text": [
            "negative\n",
            "positive\n",
            "zero\n",
            "negative\n",
            "positive\n"
          ]
        }
      ]
    },
    {
      "cell_type": "markdown",
      "source": [
        "## 2.6 나만의 함수 만들기 : def"
      ],
      "metadata": {
        "id": "VFVEN9see9nd"
      }
    },
    {
      "cell_type": "code",
      "source": [
        "def plus_ten(x): #plus_ten은 함수 이름, x는 이 함수에 들어갈 매개변수\n",
        "    return x + 10 #함수가 x에 10을 더하도록 연산"
      ],
      "metadata": {
        "id": "43ZzbJh4fBwD"
      },
      "execution_count": 38,
      "outputs": []
    },
    {
      "cell_type": "code",
      "source": [
        "plus_ten(5)"
      ],
      "metadata": {
        "colab": {
          "base_uri": "https://localhost:8080/"
        },
        "id": "Zx3NCCtBfG1z",
        "outputId": "1409ff7d-63b1-4b08-b636-46ec861cb47c"
      },
      "execution_count": 39,
      "outputs": [
        {
          "output_type": "execute_result",
          "data": {
            "text/plain": [
              "15"
            ]
          },
          "metadata": {},
          "execution_count": 39
        }
      ]
    },
    {
      "cell_type": "code",
      "source": [
        "def sum(a,b): # sum이라는 이름의 함수로, 매개변수는 a와 b\n",
        "    return a+b #a와 b의 합을 구하는 연산\n",
        ""
      ],
      "metadata": {
        "id": "2IKKzJPbfIZ_"
      },
      "execution_count": 41,
      "outputs": []
    },
    {
      "cell_type": "code",
      "source": [
        "sum(10,5)"
      ],
      "metadata": {
        "colab": {
          "base_uri": "https://localhost:8080/"
        },
        "id": "asIxf4R4fK4e",
        "outputId": "f9576517-ee80-45b6-c837-e505c2d8bda3"
      },
      "execution_count": 42,
      "outputs": [
        {
          "output_type": "execute_result",
          "data": {
            "text/plain": [
              "15"
            ]
          },
          "metadata": {},
          "execution_count": 42
        }
      ]
    },
    {
      "cell_type": "code",
      "source": [
        "def sum_five(a,b=5): # b에 5라는 기본값이 설정됨\n",
        "    return a+b"
      ],
      "metadata": {
        "id": "vmYt9xHOfMOJ"
      },
      "execution_count": 43,
      "outputs": []
    },
    {
      "cell_type": "code",
      "source": [
        "sum_five(10)"
      ],
      "metadata": {
        "colab": {
          "base_uri": "https://localhost:8080/"
        },
        "id": "QPAXt5mzfN4q",
        "outputId": "b470b1b7-2690-4733-c625-7b94c0b53fdf"
      },
      "execution_count": 44,
      "outputs": [
        {
          "output_type": "execute_result",
          "data": {
            "text/plain": [
              "15"
            ]
          },
          "metadata": {},
          "execution_count": 44
        }
      ]
    },
    {
      "cell_type": "code",
      "source": [
        "sum_five(10,7)"
      ],
      "metadata": {
        "colab": {
          "base_uri": "https://localhost:8080/"
        },
        "id": "9olKgaKxfPD6",
        "outputId": "396a694e-a37b-4c85-dac8-4ac8a6755c97"
      },
      "execution_count": 45,
      "outputs": [
        {
          "output_type": "execute_result",
          "data": {
            "text/plain": [
              "17"
            ]
          },
          "metadata": {},
          "execution_count": 45
        }
      ]
    },
    {
      "cell_type": "code",
      "source": [],
      "metadata": {
        "id": "sFJxN82AfRPK"
      },
      "execution_count": null,
      "outputs": []
    }
  ]
}